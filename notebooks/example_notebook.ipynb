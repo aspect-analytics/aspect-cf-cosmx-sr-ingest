{
 "cells": [
  {
   "attachments": {},
   "cell_type": "markdown",
   "metadata": {},
   "source": [
    "# Example notebook (for illustrative puposes only)"
   ]
  },
  {
   "cell_type": "code",
   "execution_count": null,
   "metadata": {},
   "outputs": [],
   "source": [
    "from aspect_py_project_template.example import get_massnumber"
   ]
  },
  {
   "cell_type": "code",
   "execution_count": null,
   "metadata": {},
   "outputs": [],
   "source": [
    "print(get_massnumber(\"H2O\"))"
   ]
  }
 ],
 "metadata": {
  "kernelspec": {
   "display_name": "example_env",
   "language": "python",
   "name": "python3"
  },
  "language_info": {
   "codemirror_mode": {
    "name": "ipython",
    "version": 3
   },
   "file_extension": ".py",
   "mimetype": "text/x-python",
   "name": "python",
   "nbconvert_exporter": "python",
   "pygments_lexer": "ipython3",
   "version": "3.11.6"
  },
  "vscode": {
   "interpreter": {
    "hash": "e011b6054757b5f52c7c9cd3d20334becfbae7c53c63978b70d533b1a7e8fd00"
   }
  }
 },
 "nbformat": 4,
 "nbformat_minor": 2
}
